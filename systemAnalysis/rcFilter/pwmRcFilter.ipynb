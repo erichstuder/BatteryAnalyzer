{
 "cells": [
  {
   "cell_type": "code",
   "execution_count": 1,
   "id": "1d311a0d-0c47-4781-a35a-e073d180a4e0",
   "metadata": {
    "tags": []
   },
   "outputs": [],
   "source": [
    "%matplotlib ipympl\n",
    "\n",
    "from RcFilter import RcFilter\n",
    "from control import bode\n",
    "from control import step_response\n",
    "from control import freqresp\n",
    "from scipy.optimize import root_scalar\n",
    "import matplotlib.pyplot as plt\n",
    "from math import pi\n",
    "import numpy as np\n",
    "\n",
    "plt.rcParams['figure.figsize'] = [12, 8]"
   ]
  },
  {
   "cell_type": "code",
   "execution_count": 3,
   "id": "ef37229b-ab8b-483e-890a-f85b28949807",
   "metadata": {
    "tags": []
   },
   "outputs": [],
   "source": [
    "def myFunc(R, C, nrOfStages):\n",
    "    g = RcFilter.getCoupled(R=R, C=C, nrOfStages=nrOfStages)\n",
    "    mag, phase, w = freqresp(g, 2*pi*980)\n",
    "    return mag - 1e-3"
   ]
  },
  {
   "cell_type": "code",
   "execution_count": 4,
   "id": "7d1ba0e2-8ace-4f9d-bf0f-cd6ed83a35a2",
   "metadata": {
    "tags": []
   },
   "outputs": [
    {
     "name": "stdout",
     "output_type": "stream",
     "text": [
      "1624029.2195347333\n",
      "51266.531204298204\n",
      "15892.781202562743\n",
      "8474.801453840031\n"
     ]
    }
   ],
   "source": [
    "g = []\n",
    "for n in range(1, 5):\n",
    "    C=100e-9\n",
    "    result = root_scalar(lambda R: myFunc(R=R, C=C, nrOfStages=n), bracket=[1, 1e10], method='bisect')\n",
    "    g += [RcFilter.getCoupled(R=result.root, C=C, nrOfStages=n)]\n",
    "    print(result.root)"
   ]
  },
  {
   "cell_type": "code",
   "execution_count": 5,
   "id": "0dd9c7c1-b1ab-4f0a-b901-81f501b8f07c",
   "metadata": {
    "jupyter": {
     "source_hidden": true
    },
    "tags": []
   },
   "outputs": [
    {
     "data": {
      "application/vnd.jupyter.widget-view+json": {
       "model_id": "ceee7dcb64f94bb0adc230440146a9f3",
       "version_major": 2,
       "version_minor": 0
      },
      "text/plain": [
       "Canvas(toolbar=Toolbar(toolitems=[('Home', 'Reset original view', 'home', 'home'), ('Back', 'Back to previous …"
      ]
     },
     "metadata": {},
     "output_type": "display_data"
    }
   ],
   "source": [
    "plt.figure()\n",
    "bode(g, dB=True, Hz=True);"
   ]
  },
  {
   "cell_type": "markdown",
   "id": "8cd95b77-07d1-4dae-b688-b3959b68d151",
   "metadata": {},
   "source": [
    "## Step Answer"
   ]
  },
  {
   "cell_type": "code",
   "execution_count": 6,
   "id": "210b3a01-50a6-4051-b641-b10ed0ad09a5",
   "metadata": {
    "jupyter": {
     "source_hidden": true
    },
    "tags": []
   },
   "outputs": [
    {
     "data": {
      "application/vnd.jupyter.widget-view+json": {
       "model_id": "78d67fdb7cba4a83a91fe4a02d645ad5",
       "version_major": 2,
       "version_minor": 0
      },
      "text/plain": [
       "Canvas(toolbar=Toolbar(toolitems=[('Home', 'Reset original view', 'home', 'home'), ('Back', 'Back to previous …"
      ]
     },
     "metadata": {},
     "output_type": "display_data"
    },
    {
     "name": "stderr",
     "output_type": "stream",
     "text": [
      "/home/pi/.local/lib/python3.7/site-packages/scipy/sparse/linalg/matfuncs.py:709: LinAlgWarning: Ill-conditioned matrix (rcond=1.90478e-40): result may not be accurate.\n",
      "  return solve(Q, P)\n",
      "/home/pi/.local/lib/python3.7/site-packages/scipy/sparse/linalg/matfuncs.py:709: LinAlgWarning: Ill-conditioned matrix (rcond=2.39256e-82): result may not be accurate.\n",
      "  return solve(Q, P)\n"
     ]
    }
   ],
   "source": [
    "plt.figure()\n",
    "plt.grid()\n",
    "for sys in g:\n",
    "    tEnd = 0.05\n",
    "    t,y = step_response(sys, np.arange(0, tEnd, tEnd/1000))\n",
    "    plt.plot(t, y)"
   ]
  }
 ],
 "metadata": {
  "kernelspec": {
   "display_name": "Python 3",
   "language": "python",
   "name": "python3"
  },
  "language_info": {
   "codemirror_mode": {
    "name": "ipython",
    "version": 3
   },
   "file_extension": ".py",
   "mimetype": "text/x-python",
   "name": "python",
   "nbconvert_exporter": "python",
   "pygments_lexer": "ipython3",
   "version": "3.7.3"
  },
  "widgets": {
   "application/vnd.jupyter.widget-state+json": {
    "state": {
     "055bade41f7b409db4f2bc7ba9d75ed4": {
      "model_module": "jupyter-matplotlib",
      "model_module_version": "^0.9.0",
      "model_name": "ToolbarModel",
      "state": {
       "layout": "IPY_MODEL_79a68ecf217c496c96e45fcdc8782370",
       "toolitems": [
        [
         "Home",
         "Reset original view",
         "home",
         "home"
        ],
        [
         "Back",
         "Back to previous view",
         "arrow-left",
         "back"
        ],
        [
         "Forward",
         "Forward to next view",
         "arrow-right",
         "forward"
        ],
        [
         "Pan",
         "Left button pans, Right button zooms\nx/y fixes axis, CTRL fixes aspect",
         "arrows",
         "pan"
        ],
        [
         "Zoom",
         "Zoom to rectangle\nx/y fixes axis, CTRL fixes aspect",
         "square-o",
         "zoom"
        ],
        [
         "Download",
         "Download plot",
         "floppy-o",
         "save_figure"
        ]
       ]
      }
     },
     "5f0d06b7d2fd4b2da23fbbd47b1c1c98": {
      "model_module": "jupyter-matplotlib",
      "model_module_version": "^0.9.0",
      "model_name": "MPLCanvasModel",
      "state": {
       "_cursor": "default",
       "_figure_label": "Figure 1",
       "_height": 800,
       "_width": 1200,
       "layout": "IPY_MODEL_8b04d568130249ddb9b0e7d05cb34691",
       "toolbar": "IPY_MODEL_b4dbe73bb9df4f298d4d2da32480798e",
       "toolbar_position": "left"
      }
     },
     "6f401169bf864191ad08612bb899d36d": {
      "model_module": "@jupyter-widgets/base",
      "model_module_version": "1.2.0",
      "model_name": "LayoutModel",
      "state": {}
     },
     "79a68ecf217c496c96e45fcdc8782370": {
      "model_module": "@jupyter-widgets/base",
      "model_module_version": "1.2.0",
      "model_name": "LayoutModel",
      "state": {}
     },
     "7f10d05286cc46be9ab805ec818e002c": {
      "model_module": "@jupyter-widgets/base",
      "model_module_version": "1.2.0",
      "model_name": "LayoutModel",
      "state": {}
     },
     "8b04d568130249ddb9b0e7d05cb34691": {
      "model_module": "@jupyter-widgets/base",
      "model_module_version": "1.2.0",
      "model_name": "LayoutModel",
      "state": {}
     },
     "b4dbe73bb9df4f298d4d2da32480798e": {
      "model_module": "jupyter-matplotlib",
      "model_module_version": "^0.9.0",
      "model_name": "ToolbarModel",
      "state": {
       "layout": "IPY_MODEL_6f401169bf864191ad08612bb899d36d",
       "toolitems": [
        [
         "Home",
         "Reset original view",
         "home",
         "home"
        ],
        [
         "Back",
         "Back to previous view",
         "arrow-left",
         "back"
        ],
        [
         "Forward",
         "Forward to next view",
         "arrow-right",
         "forward"
        ],
        [
         "Pan",
         "Left button pans, Right button zooms\nx/y fixes axis, CTRL fixes aspect",
         "arrows",
         "pan"
        ],
        [
         "Zoom",
         "Zoom to rectangle\nx/y fixes axis, CTRL fixes aspect",
         "square-o",
         "zoom"
        ],
        [
         "Download",
         "Download plot",
         "floppy-o",
         "save_figure"
        ]
       ]
      }
     },
     "e10075bc269d4ce7bff1c43b380320c8": {
      "model_module": "jupyter-matplotlib",
      "model_module_version": "^0.9.0",
      "model_name": "MPLCanvasModel",
      "state": {
       "_cursor": "default",
       "_figure_label": "Figure 2",
       "_height": 800,
       "_message": "x=0.04961 y=0.685",
       "_width": 1200,
       "layout": "IPY_MODEL_7f10d05286cc46be9ab805ec818e002c",
       "toolbar": "IPY_MODEL_055bade41f7b409db4f2bc7ba9d75ed4",
       "toolbar_position": "left"
      }
     }
    },
    "version_major": 2,
    "version_minor": 0
   }
  }
 },
 "nbformat": 4,
 "nbformat_minor": 5
}
